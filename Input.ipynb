{
 "cells": [
  {
   "cell_type": "code",
   "execution_count": null,
   "id": "53e55a50",
   "metadata": {},
   "outputs": [],
   "source": [
    "# kalau spasinya banyak\n",
    "nama = input (\"Input nama anda :\")\n",
    "print (\"Selamat pagi\" + \"                           \" + nama)"
   ]
  },
  {
   "cell_type": "code",
   "execution_count": null,
   "id": "6a73dac2",
   "metadata": {},
   "outputs": [],
   "source": [
    "# dengan menggunakan metode input\n",
    "nama = input (\"Siapakah nama anda?\")\n",
    "kegiatan = input ('Apakah kegiatan anda sekarang,' + nama +\"?\")\n",
    "print (\"Semangat \"+ kegiatan+\"nya yah,\" + nama + \"!\")"
   ]
  },
  {
   "cell_type": "code",
   "execution_count": 4,
   "id": "728fcd42",
   "metadata": {},
   "outputs": [
    {
     "name": "stdout",
     "output_type": "stream",
     "text": [
      "Uang di dompet saya : 1\n",
      "Uang tabungan saya di bank : 1\n",
      "Total uang saya adalah 2\n"
     ]
    }
   ],
   "source": [
    "#menggunakan type \n",
    "dompet = input (\"Uang di dompet saya : \")\n",
    "tabungan = input ( \"Uang tabungan saya di bank : \")\n",
    "total = int (dompet) + int (tabungan)\n",
    "print ( \"Total uang saya adalah \" + str (total))"
   ]
  },
  {
   "cell_type": "code",
   "execution_count": 3,
   "id": "0f46f888",
   "metadata": {},
   "outputs": [
    {
     "name": "stdout",
     "output_type": "stream",
     "text": [
      "Uang di dompet saya : 10\n",
      "Uang tabungan saya di bank : 100\n",
      "Total uang saya adalah 110\n"
     ]
    }
   ],
   "source": [
    "#menggunakan type \n",
    "dompet = int (input (\"Uang di dompet saya : \"))\n",
    "tabungan = int (input ( \"Uang tabungan saya di bank : \"))\n",
    "print ( \"Total uang saya adalah \" + str (dompet + tabungan))"
   ]
  },
  {
   "cell_type": "code",
   "execution_count": null,
   "id": "dc04ab36",
   "metadata": {},
   "outputs": [],
   "source": []
  },
  {
   "cell_type": "code",
   "execution_count": null,
   "id": "eb612e60",
   "metadata": {},
   "outputs": [],
   "source": []
  },
  {
   "cell_type": "code",
   "execution_count": null,
   "id": "4acb0a25",
   "metadata": {},
   "outputs": [],
   "source": []
  },
  {
   "cell_type": "code",
   "execution_count": null,
   "id": "b327a586",
   "metadata": {},
   "outputs": [],
   "source": []
  }
 ],
 "metadata": {
  "kernelspec": {
   "display_name": "Python 3 (ipykernel)",
   "language": "python",
   "name": "python3"
  },
  "language_info": {
   "codemirror_mode": {
    "name": "ipython",
    "version": 3
   },
   "file_extension": ".py",
   "mimetype": "text/x-python",
   "name": "python",
   "nbconvert_exporter": "python",
   "pygments_lexer": "ipython3",
   "version": "3.9.13"
  }
 },
 "nbformat": 4,
 "nbformat_minor": 5
}
