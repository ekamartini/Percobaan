{
 "cells": [
  {
   "cell_type": "markdown",
   "id": "992a100f",
   "metadata": {},
   "source": [
    "# 5.1 PRINT"
   ]
  },
  {
   "cell_type": "code",
   "execution_count": 1,
   "id": "89153d78",
   "metadata": {},
   "outputs": [
    {
     "name": "stdout",
     "output_type": "stream",
     "text": [
      "Ini Kelas Algoritma\n"
     ]
    }
   ],
   "source": [
    "print ('Ini Kelas Algoritma')"
   ]
  },
  {
   "cell_type": "code",
   "execution_count": 2,
   "id": "c1ac51b8",
   "metadata": {},
   "outputs": [
    {
     "name": "stdout",
     "output_type": "stream",
     "text": [
      "Saya ingin pulang ke rumah \n",
      "Tapi selalu saja ada kegiatan di kampus\n"
     ]
    }
   ],
   "source": [
    "#006_Gunakan /n untuk enter atau memulai baris baru\n",
    "print ('Saya ingin pulang ke rumah \\nTapi selalu saja ada kegiatan di kampus')"
   ]
  },
  {
   "cell_type": "code",
   "execution_count": 12,
   "id": "cae7a466",
   "metadata": {},
   "outputs": [
    {
     "name": "stdout",
     "output_type": "stream",
     "text": [
      "Ini kalo pakai petik dua. hasilnya bakal sama saja kaya pake petik satu\n"
     ]
    }
   ],
   "source": [
    "print (\"Ini kalo pakai petik dua. hasilnya bakal sama saja kaya pake petik satu\")"
   ]
  },
  {
   "cell_type": "code",
   "execution_count": 3,
   "id": "4585a554",
   "metadata": {},
   "outputs": [
    {
     "name": "stdout",
     "output_type": "stream",
     "text": [
      "Saya ingin belajar Phyton kerena saya sangat ingin belajar bahasa pemograman\n"
     ]
    }
   ],
   "source": [
    "print (\"Saya ingin belajar Phyton kerena saya sangat ingin belajar bahasa pemograman\")"
   ]
  },
  {
   "cell_type": "code",
   "execution_count": 2,
   "id": "66c85aad",
   "metadata": {},
   "outputs": [
    {
     "name": "stdout",
     "output_type": "stream",
     "text": [
      "Ini kalau pake tanda garis miring untuk enter \n",
      " biar tidak kepanjangan saat ngetik\n"
     ]
    }
   ],
   "source": [
    "print (\"Ini kalau pake tanda garis miring untuk enter \\n biar tidak kepanjangan saat ngetik\")"
   ]
  },
  {
   "cell_type": "code",
   "execution_count": 13,
   "id": "39172578",
   "metadata": {},
   "outputs": [
    {
     "ename": "SyntaxError",
     "evalue": "EOL while scanning string literal (771488067.py, line 1)",
     "output_type": "error",
     "traceback": [
      "\u001b[1;36m  File \u001b[1;32m\"C:\\Users\\ekama\\AppData\\Local\\Temp\\ipykernel_5552\\771488067.py\"\u001b[1;36m, line \u001b[1;32m1\u001b[0m\n\u001b[1;33m    print (\"Ini kalau pake tanda garis miring untuk enter \\n\u001b[0m\n\u001b[1;37m                                                            ^\u001b[0m\n\u001b[1;31mSyntaxError\u001b[0m\u001b[1;31m:\u001b[0m EOL while scanning string literal\n"
     ]
    }
   ],
   "source": [
    "print (\"Ini kalau pake tanda garis miring untuk enter \\n\n",
    "biar tidak kepanjangan saat ngetik\")"
   ]
  },
  {
   "cell_type": "code",
   "execution_count": 5,
   "id": "ae20fb8e",
   "metadata": {},
   "outputs": [
    {
     "name": "stdout",
     "output_type": "stream",
     "text": [
      "Manifesting Nilai Algoritma A\n"
     ]
    }
   ],
   "source": [
    "print ('Manifesting Nilai Algoritma A')"
   ]
  },
  {
   "cell_type": "code",
   "execution_count": 6,
   "id": "01b863c6",
   "metadata": {},
   "outputs": [
    {
     "name": "stdout",
     "output_type": "stream",
     "text": [
      "42\n",
      "20000\n",
      "840000\n"
     ]
    }
   ],
   "source": [
    "mahasiswa = 42\n",
    "uang_dompet = 20000\n",
    "print (mahasiswa) \n",
    "print (uang_dompet)\n",
    "print (mahasiswa*uang_dompet)"
   ]
  },
  {
   "cell_type": "code",
   "execution_count": 7,
   "id": "fb8ff9a3",
   "metadata": {},
   "outputs": [
    {
     "ename": "SyntaxError",
     "evalue": "EOL while scanning string literal (4016876284.py, line 4)",
     "output_type": "error",
     "traceback": [
      "\u001b[1;36m  File \u001b[1;32m\"C:\\Users\\ekama\\AppData\\Local\\Temp\\ipykernel_5552\\4016876284.py\"\u001b[1;36m, line \u001b[1;32m4\u001b[0m\n\u001b[1;33m    print ('saya iseng\")\u001b[0m\n\u001b[1;37m                        ^\u001b[0m\n\u001b[1;31mSyntaxError\u001b[0m\u001b[1;31m:\u001b[0m EOL while scanning string literal\n"
     ]
    }
   ],
   "source": [
    "# Kalau pakai pagar kaya gini hasilnya gak ke run\n",
    "# Disini hasiknya error karena tanda petiknya beda, \n",
    "# satu menggunakan petik satu dan satunya menggunakan petik dua\n",
    "print ('saya iseng\")"
   ]
  },
  {
   "cell_type": "code",
   "execution_count": 8,
   "id": "026bc572",
   "metadata": {},
   "outputs": [
    {
     "name": "stdout",
     "output_type": "stream",
     "text": [
      "42\n"
     ]
    }
   ],
   "source": [
    "mahasiswa_06 = 42\n",
    "uang_di_dompet_06 =10000\n",
    "print(mahasiswa)\n",
    "# ini karena adanya memori yang sebelumnya yang masih terekam di memori. jadinya yang keluar tetep 42\n",
    "#jika ingin mengulang cari di kernel, clear."
   ]
  },
  {
   "cell_type": "code",
   "execution_count": 11,
   "id": "79cb530a",
   "metadata": {},
   "outputs": [
    {
     "name": "stdout",
     "output_type": "stream",
     "text": [
      "Eka Martini\n"
     ]
    }
   ],
   "source": [
    "# menggunakan operasi atau menggabungkan kalimat/kata\n",
    "nama_depan = \"Eka\"\n",
    "nama_belakang = \"Martini\"\n",
    "print (nama_depan + ' '+ nama_belakang)"
   ]
  },
  {
   "cell_type": "code",
   "execution_count": null,
   "id": "b2c6a93d",
   "metadata": {},
   "outputs": [],
   "source": [
    "# kalau spasinya banyak\n",
    "nama = input (\"Input nama anda :\")\n",
    "print (\"Selamat pagi\" + \"                           \" + nama)"
   ]
  },
  {
   "cell_type": "markdown",
   "id": "4d49881f",
   "metadata": {},
   "source": [
    "# 5.2 INPUT"
   ]
  },
  {
   "cell_type": "code",
   "execution_count": null,
   "id": "55a8635c",
   "metadata": {},
   "outputs": [],
   "source": [
    "# dengan menggunakan metode input\n",
    "nama = input (\"Siapakah nama anda?\")\n",
    "kegiatan = input ('Apakah kegiatan anda sekarang,' + nama +\"?\")\n",
    "print (\"Semangat \"+ kegiatan+\"nya yah,\" + nama + \"!\")\n"
   ]
  },
  {
   "cell_type": "markdown",
   "id": "1dbd506f",
   "metadata": {},
   "source": [
    "# 5.3 TIPE DATA PADA PYTHON"
   ]
  },
  {
   "cell_type": "markdown",
   "id": "eb2a21d6",
   "metadata": {},
   "source": [
    "## Tipe Data Integer dan String"
   ]
  },
  {
   "cell_type": "code",
   "execution_count": 1,
   "id": "851c38e4",
   "metadata": {},
   "outputs": [
    {
     "name": "stdout",
     "output_type": "stream",
     "text": [
      "Input nama anda :a\n",
      "Selamat pagi                           a\n",
      "Siapakah nama anda?a\n",
      "Apakah kegiatan anda sekarang,a?a\n",
      "Semangat anya yah,a!\n",
      "Uang di dompet saya : a\n",
      "Uang tabungan saya di bank : a\n"
     ]
    },
    {
     "ename": "ValueError",
     "evalue": "invalid literal for int() with base 10: 'a'",
     "output_type": "error",
     "traceback": [
      "\u001b[1;31m---------------------------------------------------------------------------\u001b[0m",
      "\u001b[1;31mValueError\u001b[0m                                Traceback (most recent call last)",
      "\u001b[1;32m~\\AppData\\Local\\Temp\\ipykernel_16512\\1240397600.py\u001b[0m in \u001b[0;36m<module>\u001b[1;34m\u001b[0m\n\u001b[0;32m     11\u001b[0m \u001b[0mdompet\u001b[0m \u001b[1;33m=\u001b[0m \u001b[0minput\u001b[0m \u001b[1;33m(\u001b[0m\u001b[1;34m\"Uang di dompet saya : \"\u001b[0m\u001b[1;33m)\u001b[0m\u001b[1;33m\u001b[0m\u001b[1;33m\u001b[0m\u001b[0m\n\u001b[0;32m     12\u001b[0m \u001b[0mtabungan\u001b[0m \u001b[1;33m=\u001b[0m \u001b[0minput\u001b[0m \u001b[1;33m(\u001b[0m \u001b[1;34m\"Uang tabungan saya di bank : \"\u001b[0m\u001b[1;33m)\u001b[0m\u001b[1;33m\u001b[0m\u001b[1;33m\u001b[0m\u001b[0m\n\u001b[1;32m---> 13\u001b[1;33m \u001b[0mtotal\u001b[0m \u001b[1;33m=\u001b[0m \u001b[0mint\u001b[0m \u001b[1;33m(\u001b[0m\u001b[0mdompet\u001b[0m\u001b[1;33m)\u001b[0m \u001b[1;33m+\u001b[0m \u001b[0mint\u001b[0m \u001b[1;33m(\u001b[0m\u001b[0mtabungan\u001b[0m\u001b[1;33m)\u001b[0m\u001b[1;33m\u001b[0m\u001b[1;33m\u001b[0m\u001b[0m\n\u001b[0m\u001b[0;32m     14\u001b[0m \u001b[0mprint\u001b[0m \u001b[1;33m(\u001b[0m \u001b[1;34m\"Total uang saya adalah \"\u001b[0m \u001b[1;33m+\u001b[0m \u001b[0mstr\u001b[0m \u001b[1;33m(\u001b[0m\u001b[0mtotal\u001b[0m\u001b[1;33m)\u001b[0m\u001b[1;33m)\u001b[0m\u001b[1;33m\u001b[0m\u001b[1;33m\u001b[0m\u001b[0m\n\u001b[0;32m     15\u001b[0m \u001b[1;33m\u001b[0m\u001b[0m\n",
      "\u001b[1;31mValueError\u001b[0m: invalid literal for int() with base 10: 'a'"
     ]
    }
   ],
   "source": [
    "\n",
    "#menggunakan type \n",
    "dompet = input (\"Uang di dompet saya : \")\n",
    "tabungan = input ( \"Uang tabungan saya di bank : \")\n",
    "total = int (dompet) + int (tabungan)\n",
    "print ( \"Total uang saya adalah \" + str (total))\n",
    "\n",
    "#menggunakan type \n",
    "dompet = int (input (\"Uang di dompet saya : \"))\n",
    "tabungan = int (input ( \"Uang tabungan saya di bank : \"))\n",
    "print ( \"Total uang saya adalah \" + str (dompet + tabungan))\n",
    "\n",
    "\n",
    "\n",
    "\n",
    "\n",
    "\n",
    "\n"
   ]
  },
  {
   "cell_type": "code",
   "execution_count": null,
   "id": "76b53f28",
   "metadata": {},
   "outputs": [],
   "source": []
  },
  {
   "cell_type": "code",
   "execution_count": null,
   "id": "687bbd4e",
   "metadata": {},
   "outputs": [],
   "source": []
  },
  {
   "cell_type": "code",
   "execution_count": null,
   "id": "96b8faba",
   "metadata": {},
   "outputs": [],
   "source": [
    "bilangan_satu = input (\"Masukkan bilangan pertama : \")\n",
    "bilangan_kedua = input (\"Masukkan bilangan kedua : \")\n",
    "jumlah = float (bilangan_satu) + float (bilangan_kedua)\n",
    "print (\"Jumlah kedua bilangan adalah \"+ str(jumlah))"
   ]
  },
  {
   "cell_type": "code",
   "execution_count": null,
   "id": "e5b571f0",
   "metadata": {},
   "outputs": [],
   "source": []
  }
 ],
 "metadata": {
  "kernelspec": {
   "display_name": "Python 3 (ipykernel)",
   "language": "python",
   "name": "python3"
  },
  "language_info": {
   "codemirror_mode": {
    "name": "ipython",
    "version": 3
   },
   "file_extension": ".py",
   "mimetype": "text/x-python",
   "name": "python",
   "nbconvert_exporter": "python",
   "pygments_lexer": "ipython3",
   "version": "3.9.13"
  }
 },
 "nbformat": 4,
 "nbformat_minor": 5
}
